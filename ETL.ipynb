{
 "cells": [
  {
   "attachments": {},
   "cell_type": "markdown",
   "metadata": {},
   "source": [
    "MODIFICACIONES LUEGO DE CONCATENAR"
   ]
  },
  {
   "cell_type": "code",
   "execution_count": 6,
   "metadata": {},
   "outputs": [],
   "source": [
    "#Importamos las librerias a usar\n",
    "import pandas as pd\n",
    "from collections import Counter"
   ]
  },
  {
   "attachments": {},
   "cell_type": "markdown",
   "metadata": {},
   "source": [
    "Cargo los datasets: Amazon, Disney, Hulu y Netflix"
   ]
  },
  {
   "cell_type": "code",
   "execution_count": null,
   "metadata": {},
   "outputs": [],
   "source": [
    "df_A = pd.read_csv(\"Datasets/amazon_prime_titles.csv\")\n",
    "df_D = pd.read_csv(\"Datasets/disney_plus_titles.csv\")\n",
    "df_H = pd.read_csv(\"Datasets/hulu_titles.csv\")\n",
    "df_N = pd.read_csv(\"Datasets/netflix_titles.csv\")"
   ]
  },
  {
   "attachments": {},
   "cell_type": "markdown",
   "metadata": {},
   "source": [
    "Transformaciones: Propuesta de trabajo (requerimientos de aprobación)"
   ]
  },
  {
   "attachments": {},
   "cell_type": "markdown",
   "metadata": {},
   "source": [
    "Generar campo id: Cada id se compondrá de la primera letra del nombre de la plataforma, seguido del show_id ya presente en los datasets (ejemplo para títulos de Amazon = as123)"
   ]
  },
  {
   "cell_type": "code",
   "execution_count": null,
   "metadata": {},
   "outputs": [],
   "source": [
    "df_A.insert(0, 'id', 'A' + df_A['show_id'].astype(str))\n",
    "df_D.insert(0, 'id', 'D' + df_D['show_id'].astype(str))\n",
    "df_H.insert(0, 'id', 'H' + df_H['show_id'].astype(str))\n",
    "df_N.insert(0, 'id', 'N' + df_N['show_id'].astype(str))"
   ]
  },
  {
   "attachments": {},
   "cell_type": "markdown",
   "metadata": {},
   "source": [
    "Unifico los datasets\n",
    "\n",
    "concatenos los 4 df en uno principal para luego continuar con la transformación de los datos desde un único dataframe y así ahorrarme repetir los mismo pasos"
   ]
  },
  {
   "cell_type": "code",
   "execution_count": null,
   "metadata": {},
   "outputs": [],
   "source": [
    "df = pd.concat([df_D, df_A, df_H, df_N])"
   ]
  },
  {
   "attachments": {},
   "cell_type": "markdown",
   "metadata": {},
   "source": [
    "Los valores nulos del campo rating deberán reemplazarse por el string “G” (corresponde al maturity rating: “general for all audiences”"
   ]
  },
  {
   "cell_type": "code",
   "execution_count": null,
   "metadata": {},
   "outputs": [],
   "source": [
    "df['rating'].fillna('G', inplace = True)"
   ]
  },
  {
   "attachments": {},
   "cell_type": "markdown",
   "metadata": {},
   "source": [
    "De haber fechas, deberán tener el formato AAAA-mm-dd"
   ]
  },
  {
   "cell_type": "code",
   "execution_count": null,
   "metadata": {},
   "outputs": [],
   "source": [
    "df['date_added'] = pd.to_datetime(df['date_added'].str.strip(), format='%B %d, %Y')\n"
   ]
  },
  {
   "attachments": {},
   "cell_type": "markdown",
   "metadata": {},
   "source": [
    "Los campos de texto deberán estar en minúsculas, sin excepciones"
   ]
  },
  {
   "cell_type": "code",
   "execution_count": null,
   "metadata": {},
   "outputs": [],
   "source": [
    "df = df.applymap(lambda x: x.lower() if type(x) == str else x)"
   ]
  },
  {
   "attachments": {},
   "cell_type": "markdown",
   "metadata": {},
   "source": [
    "El campo duration debe convertirse en dos campos: duration_int y duration_type. El primero será un integer y el segundo un string indicando la unidad de medición de duración: min (minutos) o season (temporadas)"
   ]
  },
  {
   "cell_type": "code",
   "execution_count": null,
   "metadata": {},
   "outputs": [],
   "source": [
    "df[['duration_int', 'duration_type']] = df['duration'].str.split(expand = True)\n",
    "df['duration_int'].fillna(0,inplace= True) #esta linea soluciona el error de convertir nulos a enteros, cambio ceros por nulos\n",
    "df['duration_int'] = df['duration_int'].astype(int)\n",
    "df.drop(columns = ['duration'], inplace = True)"
   ]
  },
  {
   "attachments": {},
   "cell_type": "markdown",
   "metadata": {},
   "source": [
    "Cargo los datasets correspondientes a los ratings de los usuarios"
   ]
  },
  {
   "cell_type": "code",
   "execution_count": null,
   "metadata": {},
   "outputs": [],
   "source": [
    "#los puntajes están en otros datasets\n",
    "rating_1= pd.read_csv('Ratings/1.csv')\n",
    "rating_2= pd.read_csv('Ratings/2.csv')\n",
    "rating_3= pd.read_csv('Ratings/3.csv')\n",
    "rating_4= pd.read_csv('Ratings/4.csv')\n",
    "rating_5= pd.read_csv('Ratings/5.csv')\n",
    "rating_6= pd.read_csv('Ratings/6.csv')\n",
    "rating_7= pd.read_csv('Ratings/7.csv')\n",
    "rating_8= pd.read_csv('Ratings/8.csv')"
   ]
  },
  {
   "cell_type": "code",
   "execution_count": null,
   "metadata": {},
   "outputs": [],
   "source": [
    "#concateno los df# de los ratings\n",
    "df_rating = pd.concat([rating_1,rating_2,rating_3,rating_4,rating_5,rating_6,rating_7,rating_8])"
   ]
  },
  {
   "attachments": {},
   "cell_type": "markdown",
   "metadata": {},
   "source": [
    "Obtengo el promedio de los scores de los dataframes de ratings, lo uno al dataframe principal por el movieId y agrego la columna de los puntajes"
   ]
  },
  {
   "cell_type": "code",
   "execution_count": null,
   "metadata": {},
   "outputs": [],
   "source": [
    "#agrupo por movieId y promedio los puntajes de distintos usuarios\n",
    "df_grouped = round(df_rating.groupby('movieId', as_index=False)['rating'].mean(),1)\n",
    "#junto con el dataframe general de plataformas a partir del movieId\n",
    "df = pd.merge(df , df_grouped, left_on='id',right_on='movieId')\n",
    "#por último descarto la columna que no me interesa para quedarme únicamente con el promedio de los puntajes\n",
    "df = df.drop(columns=['movieId'])\n",
    "#renombro la columna rating_y como score y rating_x como rating\n",
    "df = df.rename(columns={'rating_y': 'score'})\n",
    "df = df.rename(columns={'rating_x': 'rating'})\n"
   ]
  },
  {
   "attachments": {},
   "cell_type": "markdown",
   "metadata": {},
   "source": [
    "Guardo el dataset limpio en un csv distinto"
   ]
  },
  {
   "cell_type": "code",
   "execution_count": null,
   "metadata": {},
   "outputs": [],
   "source": [
    "df.to_csv('dataset_plataformas.csv', index = False)"
   ]
  },
  {
   "cell_type": "code",
   "execution_count": 4,
   "metadata": {},
   "outputs": [],
   "source": [
    "df = pd.read_csv('dataset_plataformas.csv')"
   ]
  },
  {
   "cell_type": "code",
   "execution_count": 49,
   "metadata": {},
   "outputs": [
    {
     "data": {
      "text/plain": [
       "id                   0\n",
       "show_id              0\n",
       "type                 0\n",
       "title                0\n",
       "director          8259\n",
       "cast              5321\n",
       "country          11499\n",
       "date_added        9554\n",
       "release_year         0\n",
       "rating               0\n",
       "listed_in            0\n",
       "description          4\n",
       "duration_int         0\n",
       "duration_type      482\n",
       "score                0\n",
       "dtype: int64"
      ]
     },
     "execution_count": 49,
     "metadata": {},
     "output_type": "execute_result"
    }
   ],
   "source": [
    "df.isnull().sum()"
   ]
  },
  {
   "cell_type": "code",
   "execution_count": 50,
   "metadata": {},
   "outputs": [
    {
     "data": {
      "text/html": [
       "<div>\n",
       "<style scoped>\n",
       "    .dataframe tbody tr th:only-of-type {\n",
       "        vertical-align: middle;\n",
       "    }\n",
       "\n",
       "    .dataframe tbody tr th {\n",
       "        vertical-align: top;\n",
       "    }\n",
       "\n",
       "    .dataframe thead th {\n",
       "        text-align: right;\n",
       "    }\n",
       "</style>\n",
       "<table border=\"1\" class=\"dataframe\">\n",
       "  <thead>\n",
       "    <tr style=\"text-align: right;\">\n",
       "      <th></th>\n",
       "      <th>id</th>\n",
       "      <th>show_id</th>\n",
       "      <th>type</th>\n",
       "      <th>title</th>\n",
       "      <th>director</th>\n",
       "      <th>cast</th>\n",
       "      <th>country</th>\n",
       "      <th>date_added</th>\n",
       "      <th>release_year</th>\n",
       "      <th>rating</th>\n",
       "      <th>listed_in</th>\n",
       "      <th>description</th>\n",
       "      <th>duration_int</th>\n",
       "      <th>duration_type</th>\n",
       "      <th>score</th>\n",
       "    </tr>\n",
       "  </thead>\n",
       "  <tbody>\n",
       "    <tr>\n",
       "      <th>0</th>\n",
       "      <td>ds1</td>\n",
       "      <td>s1</td>\n",
       "      <td>movie</td>\n",
       "      <td>duck the halls: a mickey mouse christmas special</td>\n",
       "      <td>alonso ramirez ramos, dave wasson</td>\n",
       "      <td>chris diamantopoulos, tony anselmo, tress macn...</td>\n",
       "      <td>NaN</td>\n",
       "      <td>2021-11-26</td>\n",
       "      <td>2016</td>\n",
       "      <td>tv-g</td>\n",
       "      <td>animation, family</td>\n",
       "      <td>join mickey and the gang as they duck the halls!</td>\n",
       "      <td>23</td>\n",
       "      <td>min</td>\n",
       "      <td>3.6</td>\n",
       "    </tr>\n",
       "    <tr>\n",
       "      <th>1</th>\n",
       "      <td>ds2</td>\n",
       "      <td>s2</td>\n",
       "      <td>movie</td>\n",
       "      <td>ernest saves christmas</td>\n",
       "      <td>john cherry</td>\n",
       "      <td>jim varney, noelle parker, douglas seale</td>\n",
       "      <td>NaN</td>\n",
       "      <td>2021-11-26</td>\n",
       "      <td>1988</td>\n",
       "      <td>pg</td>\n",
       "      <td>comedy</td>\n",
       "      <td>santa claus passes his magic bag to a new st. ...</td>\n",
       "      <td>91</td>\n",
       "      <td>min</td>\n",
       "      <td>3.5</td>\n",
       "    </tr>\n",
       "    <tr>\n",
       "      <th>2</th>\n",
       "      <td>ds3</td>\n",
       "      <td>s3</td>\n",
       "      <td>movie</td>\n",
       "      <td>ice age: a mammoth christmas</td>\n",
       "      <td>karen disher</td>\n",
       "      <td>raymond albert romano, john leguizamo, denis l...</td>\n",
       "      <td>united states</td>\n",
       "      <td>2021-11-26</td>\n",
       "      <td>2011</td>\n",
       "      <td>tv-g</td>\n",
       "      <td>animation, comedy, family</td>\n",
       "      <td>sid the sloth is on santa's naughty list.</td>\n",
       "      <td>23</td>\n",
       "      <td>min</td>\n",
       "      <td>3.6</td>\n",
       "    </tr>\n",
       "    <tr>\n",
       "      <th>3</th>\n",
       "      <td>ds4</td>\n",
       "      <td>s4</td>\n",
       "      <td>movie</td>\n",
       "      <td>the queen family singalong</td>\n",
       "      <td>hamish hamilton</td>\n",
       "      <td>darren criss, adam lambert, derek hough, alexa...</td>\n",
       "      <td>NaN</td>\n",
       "      <td>2021-11-26</td>\n",
       "      <td>2021</td>\n",
       "      <td>tv-pg</td>\n",
       "      <td>musical</td>\n",
       "      <td>this is real life, not just fantasy!</td>\n",
       "      <td>41</td>\n",
       "      <td>min</td>\n",
       "      <td>3.5</td>\n",
       "    </tr>\n",
       "    <tr>\n",
       "      <th>4</th>\n",
       "      <td>ds5</td>\n",
       "      <td>s5</td>\n",
       "      <td>tv show</td>\n",
       "      <td>the beatles: get back</td>\n",
       "      <td>NaN</td>\n",
       "      <td>john lennon, paul mccartney, george harrison, ...</td>\n",
       "      <td>NaN</td>\n",
       "      <td>2021-11-25</td>\n",
       "      <td>2021</td>\n",
       "      <td>g</td>\n",
       "      <td>docuseries, historical, music</td>\n",
       "      <td>a three-part documentary from peter jackson ca...</td>\n",
       "      <td>1</td>\n",
       "      <td>season</td>\n",
       "      <td>3.5</td>\n",
       "    </tr>\n",
       "  </tbody>\n",
       "</table>\n",
       "</div>"
      ],
      "text/plain": [
       "    id show_id     type                                             title  \\\n",
       "0  ds1      s1    movie  duck the halls: a mickey mouse christmas special   \n",
       "1  ds2      s2    movie                            ernest saves christmas   \n",
       "2  ds3      s3    movie                      ice age: a mammoth christmas   \n",
       "3  ds4      s4    movie                        the queen family singalong   \n",
       "4  ds5      s5  tv show                             the beatles: get back   \n",
       "\n",
       "                            director  \\\n",
       "0  alonso ramirez ramos, dave wasson   \n",
       "1                        john cherry   \n",
       "2                       karen disher   \n",
       "3                    hamish hamilton   \n",
       "4                                NaN   \n",
       "\n",
       "                                                cast        country  \\\n",
       "0  chris diamantopoulos, tony anselmo, tress macn...            NaN   \n",
       "1           jim varney, noelle parker, douglas seale            NaN   \n",
       "2  raymond albert romano, john leguizamo, denis l...  united states   \n",
       "3  darren criss, adam lambert, derek hough, alexa...            NaN   \n",
       "4  john lennon, paul mccartney, george harrison, ...            NaN   \n",
       "\n",
       "   date_added  release_year rating                      listed_in  \\\n",
       "0  2021-11-26          2016   tv-g              animation, family   \n",
       "1  2021-11-26          1988     pg                         comedy   \n",
       "2  2021-11-26          2011   tv-g      animation, comedy, family   \n",
       "3  2021-11-26          2021  tv-pg                        musical   \n",
       "4  2021-11-25          2021      g  docuseries, historical, music   \n",
       "\n",
       "                                         description  duration_int  \\\n",
       "0   join mickey and the gang as they duck the halls!            23   \n",
       "1  santa claus passes his magic bag to a new st. ...            91   \n",
       "2          sid the sloth is on santa's naughty list.            23   \n",
       "3               this is real life, not just fantasy!            41   \n",
       "4  a three-part documentary from peter jackson ca...             1   \n",
       "\n",
       "  duration_type  score  \n",
       "0           min    3.6  \n",
       "1           min    3.5  \n",
       "2           min    3.6  \n",
       "3           min    3.5  \n",
       "4        season    3.5  "
      ]
     },
     "execution_count": 50,
     "metadata": {},
     "output_type": "execute_result"
    }
   ],
   "source": [
    "df.head()"
   ]
  },
  {
   "attachments": {},
   "cell_type": "markdown",
   "metadata": {},
   "source": [
    "Desarrollo API: Propones disponibilizar los datos de la empresa usando el framework FastAPI, generando diferentes endpoints que se consumiran en la API.\n"
   ]
  },
  {
   "cell_type": "markdown",
   "metadata": {},
   "source": [
    "\n",
    "Creas 6 funciones (recuerda que deben tener un decorador por cada una (@app.get(‘/’)):"
   ]
  },
  {
   "attachments": {},
   "cell_type": "markdown",
   "metadata": {},
   "source": [
    "1) Película (sólo película, no serie, ni documentales, etc) con mayor duración según año, plataforma y tipo de duración. La función debe llamarse get_max_duration(year, platform, duration_type) y debe devolver sólo el string del nombre de la película."
   ]
  },
  {
   "cell_type": "code",
   "execution_count": 5,
   "metadata": {},
   "outputs": [],
   "source": [
    "def get_max_duration(year: int, platform: str, duration_type: str):\n",
    "    \"\"\"\n",
    "    devuelve sólo el string del nombre de la película con mayor duración según año, plataforma y tipo de duración\n",
    "    \"\"\"\n",
    "    #Me aseguro que si el usuario escribe en mayus se pase a minusculas, en el caso de plataform solo me interesa la primer letra.\n",
    "    platform = platform.lower()[0]\n",
    "    duration_type = duration_type.lower()\n",
    "    resultado = df[(df['release_year']==year) & (df['id'].str.startswith(platform)) & (df['duration_type']== duration_type)]\n",
    "    idx = resultado['duration_int'].idxmax()\n",
    "    return {'pelicula': resultado.loc[idx, 'title']}"
   ]
  },
  {
   "cell_type": "code",
   "execution_count": 7,
   "metadata": {},
   "outputs": [
    {
     "data": {
      "text/plain": [
       "{'pelicula': 'soothing surf at del norte for sleep black screen'}"
      ]
     },
     "execution_count": 7,
     "metadata": {},
     "output_type": "execute_result"
    }
   ],
   "source": [
    "get_max_duration(2018, 'amazon', 'min')"
   ]
  },
  {
   "attachments": {},
   "cell_type": "markdown",
   "metadata": {},
   "source": [
    "2) Cantidad de películas (sólo películas, no series, ni documentales, etc) según plataforma, con un puntaje mayor a XX en determinado año. La función debe llamarse get_score_count(platform, scored, year) y debe devolver un int, con el total de películas que cumplen lo solicitado."
   ]
  },
  {
   "cell_type": "code",
   "execution_count": 8,
   "metadata": {},
   "outputs": [],
   "source": [
    "def get_score_count(plataforma: str, scored: float, year: int):\n",
    "    ''' \n",
    "    Devuelve un int con el total de películas con puntaje mayor a XX en determinado año\n",
    "    '''\n",
    "    #Me aseguro que si el usuario escribe en mayus se pase a minusculas, en el caso de plataform solo me interesa la primer letra.\n",
    "    platform = plataforma.lower()[0]#Aclaro indice en 0 para que tome la primer letra\n",
    "    #Filtro por año de lanzamiento, plataforma aclarando que solo tenga en cuenta la primer letra de la columna id y que el tipo sea 'movie'.\n",
    "    data_filtrada = df[(df['id'].str.startswith(platform)) & (df['release_year'] == year) & (df['type'] == 'movie')]\n",
    "    #Cuento la cantidad de películas que tienen el rating deseado\n",
    "    cantidad = data_filtrada[data_filtrada['score'] > scored]['id'].count()\n",
    "    return {'plataforma': plataforma,\n",
    "            'cantidad': int(cantidad),\n",
    "            'anio': year,\n",
    "            'score': scored}"
   ]
  },
  {
   "cell_type": "code",
   "execution_count": 10,
   "metadata": {},
   "outputs": [
    {
     "data": {
      "text/plain": [
       "{'plataforma': 'Hulu', 'cantidad': 157, 'anio': 2018, 'score': 3.2}"
      ]
     },
     "execution_count": 10,
     "metadata": {},
     "output_type": "execute_result"
    }
   ],
   "source": [
    "get_score_count('Hulu',3.2,2018)"
   ]
  },
  {
   "attachments": {},
   "cell_type": "markdown",
   "metadata": {},
   "source": [
    "3) Cantidad de películas (sólo películas, no series, ni documentales, etc) según plataforma. La función debe llamarse get_count_platform(platform) y debe devolver un int, con el número total de películas de esa plataforma. Las plataformas deben llamarse amazon, netflix, hulu, disney."
   ]
  },
  {
   "cell_type": "code",
   "execution_count": 25,
   "metadata": {},
   "outputs": [],
   "source": [
    "def get_count_platform(platform: str):\n",
    "    '''\n",
    "    Devuelve un int con el número total de películas de la plataforma que ingresa\n",
    "    '''\n",
    "    #Me aseguro que si el usuario escribe en mayuscula se pase a minusculas, en el caso de plataform solo me interesa la primer letra.\n",
    "    platform = platform.lower()[0]\n",
    "    #Realizo el filtro para que cuente del dataframe solo la plataforma de la columna ID y movie de la columna type\n",
    "    cantidad = df[(df['id'].str.startswith(platform)) & (df['type'] == 'movie')].shape[0]\n",
    "    return {'plataforma': platform, 'peliculas': cantidad}"
   ]
  },
  {
   "cell_type": "code",
   "execution_count": 26,
   "metadata": {},
   "outputs": [
    {
     "data": {
      "text/plain": [
       "{'plataforma': 'd', 'peliculas': 1052}"
      ]
     },
     "execution_count": 26,
     "metadata": {},
     "output_type": "execute_result"
    }
   ],
   "source": [
    "get_count_platform('Disney')"
   ]
  },
  {
   "attachments": {},
   "cell_type": "markdown",
   "metadata": {},
   "source": [
    "4. Actor que más se repite según plataforma y año. La función debe llamarse get_actor(platform, year) y debe devolver sólo el string con el nombre del actor que más se repite según la plataforma y el año dado."
   ]
  },
  {
   "cell_type": "code",
   "execution_count": 23,
   "metadata": {},
   "outputs": [],
   "source": [
    "def get_actor(platforma: str, year: int):\n",
    "    ''' \n",
    "    Devuelve sólo el  string con el nombre del actor que más se repite según la plataforma y el año dado\n",
    "    '''\n",
    "    #Me aseguro que si el usuario escribe en mayus se pase a minusculas, en el caso de plataform solo me interesa la primer letra.\n",
    "    platform = platforma.lower()[0]\n",
    "    df_filt = df[(df['id'].str.startswith(platform)) & (df['release_year'] == year)]\n",
    "    #Utilizo la función dropna() para eliminar los valores nulos de la columna \"cast\" del DataFrame. \n",
    "    #Con el método apply() aplico la función str() a cada valor de la columna \"cast\", convirtiendo los valores a cadenas. \n",
    "    #Uso el método str.split(',') para dividir cada cadena en una lista de actores utilizando la coma como separador. \n",
    "    #Obtengo una serie de pandas que contiene una lista de actores para cada fila del DataFrame original.\n",
    "    actores_por_fila = df_filt['cast'].dropna().apply(lambda x: [i.strip() for i in x.split(',') if not i.strip().isdigit()])\n",
    "    #Cuento la cantidad de veces que aparece cada actor en todas las filas, utilizando la clase Counter de Python.\n",
    "    contador_actores = Counter()\n",
    "    for actores in actores_por_fila:\n",
    "        contador_actores.update(actores)\n",
    "    #Encuentro el actor que aparece más veces utilizando la funcion most_common devolviendo una lista de tuplas donde cada tupla contiene un actor \n",
    "    #y la cantidad de veces que aparece en todas las filas del DataFrame.\n",
    "    actor_mas_repetido = contador_actores.most_common(1)\n",
    "    if actor_mas_repetido:\n",
    "        #Asigno [0][0] para indicar el actor que mas veces aparece\n",
    "        actor_mas_repetido = actor_mas_repetido[0][0]\n",
    "        #Muestro el actor que aparece más veces y la cantidad de veces que aparece\n",
    "        cantidad_actor_mas_repetido = contador_actores[actor_mas_repetido]\n",
    "        return {'plataforma': platforma,\n",
    "                'anio': year,\n",
    "                'actor': actor_mas_repetido,\n",
    "                'apariciones': int(cantidad_actor_mas_repetido)}\n",
    "    else:\n",
    "        return {'plataforma': platforma,\n",
    "                'anio': year,\n",
    "                'actor': \"No hay datos disponibles\",\n",
    "                'apariciones': \"No hay datos disponibles\"}"
   ]
  },
  {
   "cell_type": "code",
   "execution_count": 24,
   "metadata": {},
   "outputs": [
    {
     "data": {
      "text/plain": [
       "{'plataforma': 'amazon',\n",
       " 'anio': 2020,\n",
       " 'actor': 'anushka shetty',\n",
       " 'apariciones': 7}"
      ]
     },
     "execution_count": 24,
     "metadata": {},
     "output_type": "execute_result"
    }
   ],
   "source": [
    "get_actor('amazon', 2020)"
   ]
  },
  {
   "attachments": {},
   "cell_type": "markdown",
   "metadata": {},
   "source": [
    "5. La cantidad de contenidos/productos (todo lo disponible en streaming) que se publicó por país y año. La función debe llamarse prod_per_county(tipo,pais,anio) deberia devolver el tipo de contenido (pelicula,serie,documental) por pais y año en un diccionario con las variables llamadas 'pais' (nombre del pais), 'anio' (año), 'pelicula' (tipo de contenido)."
   ]
  },
  {
   "cell_type": "code",
   "execution_count": 19,
   "metadata": {},
   "outputs": [],
   "source": [
    "def prod_per_country(tipo: str, pais: str, year: int):\n",
    "    ''' \n",
    "    Devuelve el tipo de contenido (pelicula,serie,documental) por pais y año en un diccionario con las variables \n",
    "    llamadas 'pais' (nombre del pais), 'anio' (año), 'pelicula' (tipo de contenido)\n",
    "    '''\n",
    "    #Filtro el dataframe por tipo, país y año\n",
    "    df_filtrado = df[(df['type'] == tipo) & (df['country'] == pais) & (df['release_year'] == year)]\n",
    "    #Me quedo con la cantidad de producciones\n",
    "    cantidad = len(df_filtrado)\n",
    "    return {'pais': pais,\n",
    "            'anio': year,\n",
    "            'pelicuas': int(cantidad)\n",
    "            }"
   ]
  },
  {
   "cell_type": "code",
   "execution_count": 20,
   "metadata": {},
   "outputs": [
    {
     "data": {
      "text/plain": [
       "{'pais': 'india', 'anio': 2020, 'pelicuas': 83}"
      ]
     },
     "execution_count": 20,
     "metadata": {},
     "output_type": "execute_result"
    }
   ],
   "source": [
    "prod_per_country('movie', 'india', 2020)"
   ]
  },
  {
   "attachments": {},
   "cell_type": "markdown",
   "metadata": {},
   "source": [
    "6. La cantidad total de contenidos/productos (todo lo disponible en streaming, series, documentales, peliculas, etc) según el rating de audiencia dado (para que publico fue clasificada la pelicula). La función debe llamarse get_contents(rating) y debe devolver el numero total de contenido con ese rating de audiencias."
   ]
  },
  {
   "cell_type": "code",
   "execution_count": 21,
   "metadata": {},
   "outputs": [],
   "source": [
    "def get_contents(rating: str):\n",
    "    ''' \n",
    "    Devuelve el numero total de contenido con ese rating de audiencias\n",
    "    '''\n",
    "    rating = rating.lower()\n",
    "    #Filtro el dataframe por tipo, país y año\n",
    "    df_filtrado = df[df['rating'] == rating]\n",
    "    #Me quedo con la cantidad de producciones\n",
    "    cantidad = len(df_filtrado)\n",
    "    return {'rating': rating, 'contenido': cantidad}\n"
   ]
  },
  {
   "cell_type": "code",
   "execution_count": 22,
   "metadata": {},
   "outputs": [
    {
     "data": {
      "text/plain": [
       "{'rating': 'r', 'contenido': 2154}"
      ]
     },
     "execution_count": 22,
     "metadata": {},
     "output_type": "execute_result"
    }
   ],
   "source": [
    "get_contents('r')"
   ]
  }
 ],
 "metadata": {
  "kernelspec": {
   "display_name": "studysession",
   "language": "python",
   "name": "python3"
  },
  "language_info": {
   "codemirror_mode": {
    "name": "ipython",
    "version": 3
   },
   "file_extension": ".py",
   "mimetype": "text/x-python",
   "name": "python",
   "nbconvert_exporter": "python",
   "pygments_lexer": "ipython3",
   "version": "3.10.6"
  },
  "orig_nbformat": 4
 },
 "nbformat": 4,
 "nbformat_minor": 2
}

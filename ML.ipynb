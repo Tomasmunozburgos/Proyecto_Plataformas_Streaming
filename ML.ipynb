{
 "cells": [
  {
   "attachments": {},
   "cell_type": "markdown",
   "metadata": {},
   "source": [
    "Recomendar películas a los usuarios basándose en películas similares, por lo que se debe encontrar la similitud de puntuación entre esa película y el resto de películas, se ordenarán según el score y devolverá una lista de Python con 5 valores, cada uno siendo el string del nombre de las películas con mayor puntaje, en orden descendente. Debe ser deployado como una función adicional de la API anterior y debe llamarse get_recommendation(titulo: str)."
   ]
  },
  {
   "cell_type": "code",
   "execution_count": 7,
   "metadata": {},
   "outputs": [],
   "source": [
    "import pandas as pd\n",
    "from sklearn.feature_extraction.text import TfidfVectorizer\n",
    "from sklearn.metrics.pairwise import cosine_similarity"
   ]
  },
  {
   "cell_type": "code",
   "execution_count": 3,
   "metadata": {},
   "outputs": [],
   "source": [
    "title = 'tarzan'"
   ]
  },
  {
   "cell_type": "code",
   "execution_count": 11,
   "metadata": {},
   "outputs": [],
   "source": [
    "df = pd.read_csv('dataset_plataformas_final.csv')"
   ]
  },
  {
   "cell_type": "code",
   "execution_count": 12,
   "metadata": {},
   "outputs": [],
   "source": [
    "df_movie = df.drop(columns=['show_id', 'cast', 'director', 'country', 'description', 'release_year', 'date_added', 'rating', 'duration_int', 'duration_type', 'id']) \n",
    "df_movie = df_movie[df_movie['type'] == 'movie']\n",
    "df_movie.drop(columns=['type'], inplace = True)"
   ]
  },
  {
   "cell_type": "code",
   "execution_count": 15,
   "metadata": {},
   "outputs": [],
   "source": [
    "df_movie.to_csv('df_ml.csv')"
   ]
  },
  {
   "cell_type": "code",
   "execution_count": 13,
   "metadata": {},
   "outputs": [],
   "source": [
    "def get_recommendationB(title):\n",
    "    title = title.lower()\n",
    "    tfidf = TfidfVectorizer(stop_words='english')\n",
    "    tfidf_matrix = tfidf.fit_transform(df_movie['listed_in'])\n",
    "    idx = df_movie.index[df_movie['title'] == title.lower()].tolist()[0]\n",
    "    cosine_sim = cosine_similarity(tfidf_matrix[idx], tfidf_matrix)\n",
    "    sim_scores = list(enumerate(cosine_sim[0]))\n",
    "    sim_scores = sorted(sim_scores, key=lambda x: x[1], reverse=True)\n",
    "    sim_scores = [i for i in sim_scores if i[0] != idx]\n",
    "    sim_scores = sorted(sim_scores, key=lambda x: df_movie['score'].iloc[x[0]], reverse=True)[:5]\n",
    "    respuesta = df_movie.iloc[[i[0] for i in sim_scores]]['title'].tolist()\n",
    "    return {'recomendacion': respuesta}"
   ]
  },
  {
   "cell_type": "code",
   "execution_count": 14,
   "metadata": {},
   "outputs": [
    {
     "data": {
      "text/plain": [
       "{'recomendacion': ['lend a paw',\n",
       "  'ghost in the shell 2.0',\n",
       "  'winnie the pooh: a very merry pooh year',\n",
       "  'the adventures of petey and friends',\n",
       "  'happy home']}"
      ]
     },
     "execution_count": 14,
     "metadata": {},
     "output_type": "execute_result"
    }
   ],
   "source": [
    "get_recommendationB(title)"
   ]
  }
 ],
 "metadata": {
  "kernelspec": {
   "display_name": "Python 3",
   "language": "python",
   "name": "python3"
  },
  "language_info": {
   "codemirror_mode": {
    "name": "ipython",
    "version": 3
   },
   "file_extension": ".py",
   "mimetype": "text/x-python",
   "name": "python",
   "nbconvert_exporter": "python",
   "pygments_lexer": "ipython3",
   "version": "3.10.6"
  },
  "orig_nbformat": 4
 },
 "nbformat": 4,
 "nbformat_minor": 2
}

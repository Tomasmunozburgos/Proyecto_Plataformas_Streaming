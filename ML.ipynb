{
 "cells": [
  {
   "attachments": {},
   "cell_type": "markdown",
   "metadata": {},
   "source": [
    "Recomendar películas a los usuarios basándose en películas similares, por lo que se debe encontrar la similitud de puntuación entre esa película y el resto de películas, se ordenarán según el score y devolverá una lista de Python con 5 valores, cada uno siendo el string del nombre de las películas con mayor puntaje, en orden descendente. Debe ser deployado como una función adicional de la API anterior y debe llamarse get_recommendation(titulo: str)."
   ]
  },
  {
   "cell_type": "code",
   "execution_count": 23,
   "metadata": {},
   "outputs": [],
   "source": [
    "import pandas as pd\n",
    "import numpy as np\n",
    "import matplotlib.pyplot as plt\n",
    "from sklearn.feature_extraction.text import TfidfVectorizer\n",
    "from sklearn.metrics.pairwise import cosine_similarity"
   ]
  },
  {
   "cell_type": "code",
   "execution_count": 34,
   "metadata": {},
   "outputs": [],
   "source": [
    "df = df.drop(columns = ['show_id', 'cast', 'director', 'country', 'description', 'release_year', 'date_added', 'rating', 'duration_int', 'duration_type', 'id']) "
   ]
  },
  {
   "cell_type": "code",
   "execution_count": 35,
   "metadata": {},
   "outputs": [],
   "source": [
    "#renombro la columna rating_y como score y rating_x como rating\n",
    "df = df.rename(columns={'rating_y': 'score'})\n",
    "df = df.rename(columns={'rating_x': 'rating'})"
   ]
  },
  {
   "cell_type": "code",
   "execution_count": 36,
   "metadata": {},
   "outputs": [],
   "source": [
    "df_movie = df[df['type'] == 'movie']"
   ]
  },
  {
   "cell_type": "code",
   "execution_count": 37,
   "metadata": {},
   "outputs": [
    {
     "data": {
      "text/html": [
       "<div>\n",
       "<style scoped>\n",
       "    .dataframe tbody tr th:only-of-type {\n",
       "        vertical-align: middle;\n",
       "    }\n",
       "\n",
       "    .dataframe tbody tr th {\n",
       "        vertical-align: top;\n",
       "    }\n",
       "\n",
       "    .dataframe thead th {\n",
       "        text-align: right;\n",
       "    }\n",
       "</style>\n",
       "<table border=\"1\" class=\"dataframe\">\n",
       "  <thead>\n",
       "    <tr style=\"text-align: right;\">\n",
       "      <th></th>\n",
       "      <th>type</th>\n",
       "      <th>title</th>\n",
       "      <th>listed_in</th>\n",
       "      <th>score</th>\n",
       "    </tr>\n",
       "  </thead>\n",
       "  <tbody>\n",
       "    <tr>\n",
       "      <th>0</th>\n",
       "      <td>movie</td>\n",
       "      <td>duck the halls: a mickey mouse christmas special</td>\n",
       "      <td>animation, family</td>\n",
       "      <td>3.6</td>\n",
       "    </tr>\n",
       "    <tr>\n",
       "      <th>1</th>\n",
       "      <td>movie</td>\n",
       "      <td>ernest saves christmas</td>\n",
       "      <td>comedy</td>\n",
       "      <td>3.5</td>\n",
       "    </tr>\n",
       "    <tr>\n",
       "      <th>2</th>\n",
       "      <td>movie</td>\n",
       "      <td>ice age: a mammoth christmas</td>\n",
       "      <td>animation, comedy, family</td>\n",
       "      <td>3.6</td>\n",
       "    </tr>\n",
       "    <tr>\n",
       "      <th>3</th>\n",
       "      <td>movie</td>\n",
       "      <td>the queen family singalong</td>\n",
       "      <td>musical</td>\n",
       "      <td>3.5</td>\n",
       "    </tr>\n",
       "    <tr>\n",
       "      <th>5</th>\n",
       "      <td>movie</td>\n",
       "      <td>becoming cousteau</td>\n",
       "      <td>biographical, documentary</td>\n",
       "      <td>3.6</td>\n",
       "    </tr>\n",
       "  </tbody>\n",
       "</table>\n",
       "</div>"
      ],
      "text/plain": [
       "    type                                             title  \\\n",
       "0  movie  duck the halls: a mickey mouse christmas special   \n",
       "1  movie                            ernest saves christmas   \n",
       "2  movie                      ice age: a mammoth christmas   \n",
       "3  movie                        the queen family singalong   \n",
       "5  movie                                 becoming cousteau   \n",
       "\n",
       "                   listed_in  score  \n",
       "0          animation, family    3.6  \n",
       "1                     comedy    3.5  \n",
       "2  animation, comedy, family    3.6  \n",
       "3                    musical    3.5  \n",
       "5  biographical, documentary    3.6  "
      ]
     },
     "execution_count": 37,
     "metadata": {},
     "output_type": "execute_result"
    }
   ],
   "source": [
    "df_movie.head()"
   ]
  },
  {
   "cell_type": "code",
   "execution_count": 38,
   "metadata": {},
   "outputs": [
    {
     "name": "stderr",
     "output_type": "stream",
     "text": [
      "C:\\Users\\claud\\AppData\\Local\\Temp\\ipykernel_2384\\15183163.py:1: SettingWithCopyWarning: \n",
      "A value is trying to be set on a copy of a slice from a DataFrame\n",
      "\n",
      "See the caveats in the documentation: https://pandas.pydata.org/pandas-docs/stable/user_guide/indexing.html#returning-a-view-versus-a-copy\n",
      "  df_movie.drop(columns = 'type', inplace = True)\n"
     ]
    }
   ],
   "source": [
    "df_movie.drop(columns = 'type', inplace = True)"
   ]
  },
  {
   "cell_type": "code",
   "execution_count": 39,
   "metadata": {},
   "outputs": [],
   "source": [
    "title = 'tarzan'"
   ]
  },
  {
   "cell_type": "code",
   "execution_count": 56,
   "metadata": {},
   "outputs": [],
   "source": [
    "df = pd.read_csv('dataset_plataformas_final.csv')"
   ]
  },
  {
   "cell_type": "code",
   "execution_count": 57,
   "metadata": {},
   "outputs": [],
   "source": [
    "#Convertir columna de score a tipo numérico\n",
    "# df['score'] = pd.to_numeric(df['score'], errors='coerce')\n",
    "\n",
    "# Eliminar columnas no necesarias y filtrar por películas\n",
    "df = df.drop(columns=['show_id', 'cast', 'director', 'country', 'description', 'release_year', 'date_added', 'rating', 'duration_int', 'duration_type', 'id']) \n",
    "df = df[df['type'] == 'movie']\n",
    "\n",
    "# Crear matriz de similitud\n",
    "tfidf_vectorizer  = TfidfVectorizer(stop_words='english')\n",
    "X_train = tfidf_vectorizer.fit_transform(df['listed_in'] + \" \" + df['score'].fillna(\"\").astype(str))\n",
    "cosine_sim = cosine_similarity(X_train, X_train)\n",
    "\n",
    "# Encontrar índice de la película dada\n",
    "top_5 = df.index[df[\"title\"]== title.lower()].to_list()[0]\n",
    "\n",
    "# Crear lista de recomendaciones\n",
    "recomendation = list(enumerate(cosine_sim[top_5]))\n",
    "recomendation = sorted(recomendation, key=lambda x: x[1], reverse=True)\n",
    "recomendation = [i for i in recomendation if df.index[i[0]]!= top_5]\n",
    "recomendation = recomendation[:5]\n",
    "\n",
    "# Seleccionar títulos y score de las películas recomendadas\n",
    "respuesta = df.iloc[[i[0] for i in recomendation]][[\"title\", \"score\"]]\n",
    "\n",
    "# Ordenar por score descendente y devolver lista de títulos\n",
    "respuesta = respuesta.sort_values(by=\"score\", ascending=False)[\"title\"].tolist()"
   ]
  },
  {
   "cell_type": "code",
   "execution_count": 58,
   "metadata": {},
   "outputs": [
    {
     "data": {
      "text/plain": [
       "['ice age: a mammoth christmas',\n",
       " 'ciao alberto',\n",
       " 'paperman',\n",
       " 'alvin and the chipmunks',\n",
       " 'nona']"
      ]
     },
     "execution_count": 58,
     "metadata": {},
     "output_type": "execute_result"
    }
   ],
   "source": [
    "respuesta"
   ]
  }
 ],
 "metadata": {
  "kernelspec": {
   "display_name": "Python 3",
   "language": "python",
   "name": "python3"
  },
  "language_info": {
   "codemirror_mode": {
    "name": "ipython",
    "version": 3
   },
   "file_extension": ".py",
   "mimetype": "text/x-python",
   "name": "python",
   "nbconvert_exporter": "python",
   "pygments_lexer": "ipython3",
   "version": "3.10.6"
  },
  "orig_nbformat": 4
 },
 "nbformat": 4,
 "nbformat_minor": 2
}

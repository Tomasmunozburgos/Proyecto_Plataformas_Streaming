{
 "cells": [
  {
   "attachments": {},
   "cell_type": "markdown",
   "metadata": {},
   "source": [
    "Recomendar películas a los usuarios basándose en películas similares, por lo que se debe encontrar la similitud de puntuación entre esa película y el resto de películas, se ordenarán según el score y devolverá una lista de Python con 5 valores, cada uno siendo el string del nombre de las películas con mayor puntaje, en orden descendente. Debe ser deployado como una función adicional de la API anterior y debe llamarse get_recommendation(titulo: str)."
   ]
  },
  {
   "cell_type": "code",
   "execution_count": 1,
   "metadata": {},
   "outputs": [],
   "source": [
    "import pandas as pd\n",
    "import numpy as np\n",
    "import matplotlib.pyplot as plt\n",
    "from sklearn.feature_extraction.text import TfidfVectorizer\n",
    "from sklearn.metrics.pairwise import cosine_similarity"
   ]
  },
  {
   "cell_type": "code",
   "execution_count": 5,
   "metadata": {},
   "outputs": [],
   "source": [
    "title = 'tarzan'"
   ]
  },
  {
   "cell_type": "code",
   "execution_count": 14,
   "metadata": {},
   "outputs": [],
   "source": [
    "df = pd.read_csv('dataset_plataformas_final.csv')"
   ]
  },
  {
   "cell_type": "code",
   "execution_count": 16,
   "metadata": {},
   "outputs": [],
   "source": [
    "def get_recomendation(title: str):\n",
    "    # Eliminar columnas no necesarias y filtrar por películas\n",
    "    df_movie = df.drop(columns=['show_id', 'cast', 'director', 'country', 'description', 'release_year', 'date_added', 'rating', 'duration_int', 'duration_type', 'id']) \n",
    "    df_movie = df_movie[df_movie['type'] == 'movie']\n",
    "    # Crear matriz de similitud\n",
    "    tfidf_vectorizer  = TfidfVectorizer(stop_words='english')\n",
    "    X_train = tfidf_vectorizer.fit_transform(df_movie['listed_in'] + \" \" + df_movie['score'].fillna(\"\").astype(str))\n",
    "    cosine_sim = cosine_similarity(X_train, X_train)\n",
    "    # Encontrar índice de la película dada\n",
    "    top_5 = df.index[df[\"title\"]== title.lower()].to_list()[0]\n",
    "    # Crear lista de recomendaciones\n",
    "    recomendation = list(enumerate(cosine_sim[top_5]))\n",
    "    recomendation = sorted(recomendation, key=lambda x: x[1], reverse=True)\n",
    "    recomendation = [i for i in recomendation if df.index[i[0]]!= top_5]\n",
    "    recomendation = recomendation[:5]\n",
    "    # Seleccionar títulos y score de las películas recomendadas\n",
    "    peliculas_recomendadas = df.iloc[[i[0] for i in recomendation]][[\"title\", \"score\"]]\n",
    "    # Ordenar por score descendente y devolver lista de títulos\n",
    "    peliculas_recomendadas = peliculas_recomendadas.sort_values(by=\"score\", ascending=False)[\"title\"].tolist()\n",
    "    return {\"titulo\": peliculas_recomendadas}"
   ]
  },
  {
   "cell_type": "code",
   "execution_count": 17,
   "metadata": {},
   "outputs": [
    {
     "data": {
      "text/plain": [
       "{'titulo': ['ice age: a mammoth christmas',\n",
       "  'puppy for hanukkah',\n",
       "  'frozen fever',\n",
       "  'rookie of the year',\n",
       "  \"mickey's tale of two witches\"]}"
      ]
     },
     "execution_count": 17,
     "metadata": {},
     "output_type": "execute_result"
    }
   ],
   "source": [
    "get_recomendation(title)"
   ]
  }
 ],
 "metadata": {
  "kernelspec": {
   "display_name": "Python 3",
   "language": "python",
   "name": "python3"
  },
  "language_info": {
   "codemirror_mode": {
    "name": "ipython",
    "version": 3
   },
   "file_extension": ".py",
   "mimetype": "text/x-python",
   "name": "python",
   "nbconvert_exporter": "python",
   "pygments_lexer": "ipython3",
   "version": "3.10.6"
  },
  "orig_nbformat": 4
 },
 "nbformat": 4,
 "nbformat_minor": 2
}
